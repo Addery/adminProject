{
 "cells": [
  {
   "cell_type": "code",
   "execution_count": 3,
   "id": "initial_id",
   "metadata": {
    "collapsed": true,
    "ExecuteTime": {
     "end_time": "2025-04-21T07:06:46.207149300Z",
     "start_time": "2025-04-21T07:06:46.189150400Z"
    }
   },
   "outputs": [],
   "source": [
    "import time"
   ]
  },
  {
   "cell_type": "code",
   "outputs": [
    {
     "name": "stdout",
     "output_type": "stream",
     "text": [
      "1745219208.073953\n"
     ]
    }
   ],
   "source": [
    "print(str(time.time()))\n"
   ],
   "metadata": {
    "collapsed": false,
    "ExecuteTime": {
     "end_time": "2025-04-21T07:06:48.088953Z",
     "start_time": "2025-04-21T07:06:48.074953500Z"
    }
   },
   "id": "7698e1cf7ed67f9",
   "execution_count": 4
  },
  {
   "cell_type": "code",
   "outputs": [
    {
     "name": "stdout",
     "output_type": "stream",
     "text": [
      "False\n",
      "True\n",
      "False\n"
     ]
    }
   ],
   "source": [
    "print('一' > '二')\n",
    "print('一' > '三')\n",
    "print('二' > '三')"
   ],
   "metadata": {
    "collapsed": false,
    "ExecuteTime": {
     "end_time": "2025-04-27T03:31:45.740670100Z",
     "start_time": "2025-04-27T03:31:45.730668900Z"
    }
   },
   "id": "3a7aa1983fd46fc1",
   "execution_count": 3
  },
  {
   "cell_type": "code",
   "outputs": [
    {
     "name": "stdout",
     "output_type": "stream",
     "text": [
      "634040\n"
     ]
    }
   ],
   "source": [
    "import random\n",
    "\n",
    "number = random.randint(100000, 999999)\n",
    "print(number)\n"
   ],
   "metadata": {
    "collapsed": false,
    "ExecuteTime": {
     "end_time": "2025-05-07T08:19:58.819623200Z",
     "start_time": "2025-05-07T08:19:58.808964500Z"
    }
   },
   "id": "365aa5717107d9af",
   "execution_count": 1
  },
  {
   "cell_type": "code",
   "outputs": [
    {
     "name": "stdout",
     "output_type": "stream",
     "text": [
      "2025\n",
      "<class 'int'>\n",
      "<class 'datetime.datetime'>\n",
      "<class 'str'>\n",
      "2025-05-12 11:02:08\n"
     ]
    }
   ],
   "source": [
    "import datetime\n",
    "\n",
    "now = datetime.datetime.now()\n",
    "year = now.year\n",
    "print(year)\n",
    "print(type(year))\n",
    "\n",
    "now = datetime.datetime.now()\n",
    "\n",
    "print(type(now))\n",
    "\n",
    "now1 = now.strftime(\"%Y-%m-%d %H:%M:%S\")\n",
    "print(type(now1))\n",
    "print(now1)\n"
   ],
   "metadata": {
    "collapsed": false,
    "ExecuteTime": {
     "end_time": "2025-05-12T03:02:08.385343700Z",
     "start_time": "2025-05-12T03:02:08.372134100Z"
    }
   },
   "id": "d917f502295c23e7",
   "execution_count": 6
  },
  {
   "cell_type": "code",
   "outputs": [
    {
     "name": "stdout",
     "output_type": "stream",
     "text": [
      "1747275533.957714\n",
      "2025-05-15 10:18:53.957714 <class 'datetime.datetime'>\n",
      "2025-05-15 10:18:53 <class 'str'>\n"
     ]
    }
   ],
   "source": [
    "from datetime import datetime\n",
    "import time\n",
    "\n",
    "timestamp = time.time()\n",
    "print(timestamp)\n",
    "now = datetime.fromtimestamp(timestamp)\n",
    "print(now, type(now))\n",
    "now = now.strftime('%Y-%m-%d %H:%M:%S')\n",
    "print(now, type(now))"
   ],
   "metadata": {
    "collapsed": false,
    "ExecuteTime": {
     "end_time": "2025-05-15T02:18:53.971717200Z",
     "start_time": "2025-05-15T02:18:53.958714200Z"
    }
   },
   "id": "61666f38fd56183a",
   "execution_count": 6
  },
  {
   "cell_type": "code",
   "outputs": [
    {
     "name": "stdout",
     "output_type": "stream",
     "text": [
      "['1']\n",
      "[['[50, 50, 50]', '0.6', '一']]\n"
     ]
    }
   ],
   "source": [
    "test_dict = {'1': ['[50, 50, 50]', '0.6', '一']}\n",
    "print(list(test_dict.keys()))\n",
    "print(list(test_dict.values()))"
   ],
   "metadata": {
    "collapsed": false,
    "ExecuteTime": {
     "end_time": "2025-05-16T10:19:53.161750700Z",
     "start_time": "2025-05-16T10:19:53.154243400Z"
    }
   },
   "id": "f50a41ab0591a8d7",
   "execution_count": 2
  },
  {
   "cell_type": "code",
   "outputs": [],
   "source": [
    "import os\n",
    "from PIL import Image\n",
    "from datetime import datetime\n",
    "\n",
    "image = Image.open(r'E:\\07-code\\tunnelProject\\adminProject\\data\\pic\\camera.png')\n",
    "folder = f'data/project_1001/tun_code_1001/control_1011/avia_0101'\n",
    "os.makedirs(folder, exist_ok=True)\n",
    "filename = datetime.now().strftime('%Y%m%d%H%M%S%f') + '.jpg'\n",
    "save_path = os.path.join(folder, filename)\n",
    "image.save(save_path, format='JPEG')"
   ],
   "metadata": {
    "collapsed": false,
    "ExecuteTime": {
     "end_time": "2025-05-16T10:50:52.441311700Z",
     "start_time": "2025-05-16T10:50:52.347885Z"
    }
   },
   "id": "76ecac5a5436aeb5",
   "execution_count": 7
  },
  {
   "cell_type": "code",
   "outputs": [],
   "source": [],
   "metadata": {
    "collapsed": false
   },
   "id": "dbaee7d8ee2daa5f"
  },
  {
   "cell_type": "code",
   "outputs": [
    {
     "name": "stdout",
     "output_type": "stream",
     "text": [
      "no none\n"
     ]
    }
   ],
   "source": [
    "unionid = 'unionid'\n",
    "wx_openid = 'wx_openid'\n",
    "mp_openid = 'mp_openid'\n",
    "if not all([unionid, wx_openid, mp_openid]):\n",
    "    print('none')\n",
    "else:\n",
    "    print('no none')"
   ],
   "metadata": {
    "collapsed": false,
    "ExecuteTime": {
     "end_time": "2025-05-19T12:10:55.583011200Z",
     "start_time": "2025-05-19T12:10:55.573011500Z"
    }
   },
   "id": "46f696636299d3c0",
   "execution_count": 3
  },
  {
   "cell_type": "code",
   "outputs": [
    {
     "ename": "SyntaxError",
     "evalue": "unexpected EOF while parsing (<unknown>, line 0)",
     "output_type": "error",
     "traceback": [
      "Traceback \u001B[1;36m(most recent call last)\u001B[0m:\n",
      "\u001B[0m  File \u001B[0;32mE:\\Anaconda\\envs\\tunnel_project\\lib\\site-packages\\IPython\\core\\interactiveshell.py:3508\u001B[0m in \u001B[0;35mrun_code\u001B[0m\n    exec(code_obj, self.user_global_ns, self.user_ns)\u001B[0m\n",
      "\u001B[0m  Cell \u001B[0;32mIn[8], line 3\u001B[0m\n    result = ast.literal_eval(\"\")\u001B[0m\n",
      "\u001B[0m  File \u001B[0;32mE:\\Anaconda\\envs\\tunnel_project\\lib\\ast.py:59\u001B[0m in \u001B[0;35mliteral_eval\u001B[0m\n    node_or_string = parse(node_or_string, mode='eval')\u001B[0m\n",
      "\u001B[1;36m  File \u001B[1;32mE:\\Anaconda\\envs\\tunnel_project\\lib\\ast.py:47\u001B[1;36m in \u001B[1;35mparse\u001B[1;36m\n\u001B[1;33m    return compile(source, filename, mode, flags,\u001B[1;36m\n",
      "\u001B[1;36m  File \u001B[1;32m<unknown>\u001B[1;36m\u001B[0m\n\u001B[1;33m    \u001B[0m\n\u001B[1;37m    ^\u001B[0m\n\u001B[1;31mSyntaxError\u001B[0m\u001B[1;31m:\u001B[0m unexpected EOF while parsing\n"
     ]
    }
   ],
   "source": [
    "import ast\n",
    "\n",
    "result = ast.literal_eval(\"\")\n",
    "isinstance(result, list)"
   ],
   "metadata": {
    "collapsed": false,
    "ExecuteTime": {
     "end_time": "2025-05-22T06:13:20.365070200Z",
     "start_time": "2025-05-22T06:13:20.359560600Z"
    }
   },
   "id": "9d296b5ec949d3bf",
   "execution_count": 8
  },
  {
   "cell_type": "code",
   "outputs": [
    {
     "name": "stdout",
     "output_type": "stream",
     "text": [
      "[Decimal('174'), Decimal('59'), Decimal('109')]\n"
     ]
    }
   ],
   "source": [
    "from decimal import Decimal\n",
    "import random\n",
    "\n",
    "rgb = [Decimal(random.randint(0, 255)) for _ in range(3)]\n",
    "print(rgb)"
   ],
   "metadata": {
    "collapsed": false,
    "ExecuteTime": {
     "end_time": "2025-05-28T03:53:06.891416200Z",
     "start_time": "2025-05-28T03:53:06.880411200Z"
    }
   },
   "id": "7944d9274514f08f",
   "execution_count": 2
  },
  {
   "cell_type": "code",
   "outputs": [
    {
     "name": "stdout",
     "output_type": "stream",
     "text": [
      "索引:  1\n",
      "d1数据:  dict1_data1\n",
      "d2数据:  dict2_data1\n",
      "索引:  2\n",
      "d1数据:  dict1_data2\n",
      "d2数据:  dict2_data2\n"
     ]
    }
   ],
   "source": [
    "dict1 = {\n",
    "    '1': 'dict1_data1',\n",
    "    '2': 'dict1_data2'\n",
    "}\n",
    "\n",
    "dict2 = {\n",
    "    '1': 'dict2_data1',\n",
    "    '2': 'dict2_data2'\n",
    "}\n",
    "\n",
    "for d1, d2 in zip(dict1.items(), dict2.items()):\n",
    "    d1_k, d1_v = d1\n",
    "    d2_k, d2_v = d2\n",
    "    print('索引: ', d1_k)\n",
    "    print('d1数据: ', d1_v)\n",
    "    print('d2数据: ', d2_v)"
   ],
   "metadata": {
    "collapsed": false,
    "ExecuteTime": {
     "end_time": "2025-05-28T11:55:21.891584900Z",
     "start_time": "2025-05-28T11:55:21.873584Z"
    }
   },
   "id": "42f99d9070c2f5d3",
   "execution_count": 2
  },
  {
   "cell_type": "code",
   "outputs": [
    {
     "name": "stdout",
     "output_type": "stream",
     "text": [
      "Pandas(_0=-0.0011569191349384, _1=0.0014822689544516, _2=-0.0746529813639185, _3=0.0466440235269654, _4=-0.8292645624600279, _5=4.33781500818242)\n",
      "Pandas(_0=-0.0011539789665188, _1=0.0013372767185736, _2=-0.074677155278779, _3=0.0455916805204424, _4=-0.8263566381167001, _5=4.349503150918398)\n"
     ]
    }
   ],
   "source": [
    "import pandas as pd\n",
    "\n",
    "path = r'E:\\07-code\\tunnelProject\\controlProject\\data\\test.csv'\n",
    "df = pd.read_csv(path)\n",
    "for row in df.itertuples(index=False):\n",
    "    print(row)"
   ],
   "metadata": {
    "collapsed": false,
    "ExecuteTime": {
     "end_time": "2025-05-29T07:28:11.042787700Z",
     "start_time": "2025-05-29T07:28:08.018209600Z"
    }
   },
   "id": "96a8347afbc888c3",
   "execution_count": 1
  },
  {
   "cell_type": "code",
   "outputs": [
    {
     "name": "stdout",
     "output_type": "stream",
     "text": [
      "[1, 2, 3, 4]\n",
      "在\n"
     ]
    }
   ],
   "source": [
    "dict_test = {\n",
    "    1: 'test',\n",
    "    2: 'test',\n",
    "    3: 'test',\n",
    "    4: 'test'\n",
    "}\n",
    "\n",
    "print(list(dict_test.keys()))\n",
    "\n",
    "if 1 in dict_test.keys():\n",
    "    print('在')"
   ],
   "metadata": {
    "collapsed": false,
    "ExecuteTime": {
     "end_time": "2025-05-30T03:10:46.820382300Z",
     "start_time": "2025-05-30T03:10:46.804304100Z"
    }
   },
   "id": "3eddf8973ae6101b",
   "execution_count": 4
  },
  {
   "cell_type": "code",
   "outputs": [
    {
     "name": "stdout",
     "output_type": "stream",
     "text": [
      "[9, 8, 11, 10, 5, 4, 1, 15, 3, 14]\n"
     ]
    }
   ],
   "source": [
    "import random\n",
    "\n",
    "arr = [1, 2, 3, 4, 5, 6, 7, 8, 9, 10, 11, 12, 13, 14, 15]\n",
    "\n",
    "sampled = random.sample(arr, 10)\n",
    "print(sampled)\n"
   ],
   "metadata": {
    "collapsed": false,
    "ExecuteTime": {
     "end_time": "2025-05-29T09:27:45.621946100Z",
     "start_time": "2025-05-29T09:27:45.580305300Z"
    }
   },
   "id": "a3ac8550e818ecfe",
   "execution_count": 5
  },
  {
   "cell_type": "code",
   "outputs": [
    {
     "name": "stdout",
     "output_type": "stream",
     "text": [
      "[50, 50, 50]\n"
     ]
    }
   ],
   "source": [
    "import ast\n",
    "\n",
    "content = \"[50, 50, 50]\"\n",
    "\n",
    "res = ast.literal_eval(content)\n",
    "\n",
    "print(res)"
   ],
   "metadata": {
    "collapsed": false,
    "ExecuteTime": {
     "end_time": "2025-05-30T01:47:54.437210400Z",
     "start_time": "2025-05-30T01:47:54.414542600Z"
    }
   },
   "id": "6e228fa23612ff19",
   "execution_count": 3
  },
  {
   "cell_type": "code",
   "outputs": [
    {
     "name": "stdout",
     "output_type": "stream",
     "text": [
      "<class 'str'>\n",
      "{'1': {'surface_area': '1区域面积', 'volume': '2区域体积', 'points': ['x', 'y', 'z', 'intensity, ']}}\n",
      "<class 'dict'>\n"
     ]
    }
   ],
   "source": [
    "import ast\n",
    "\n",
    "str_dict = \"{'1': {'surface_area': '1区域面积', 'volume': '2区域体积', 'points': ['x', 'y', 'z', 'intensity, ']}}\"\n",
    "\n",
    "print(type(str_dict))\n",
    "\n",
    "for_dict = ast.literal_eval(str_dict)\n",
    "print(for_dict)\n",
    "print(type(for_dict))"
   ],
   "metadata": {
    "collapsed": false,
    "ExecuteTime": {
     "end_time": "2025-05-30T08:23:59.965048200Z",
     "start_time": "2025-05-30T08:23:59.958047100Z"
    }
   },
   "id": "291f69a0a88fe6df",
   "execution_count": 9
  },
  {
   "cell_type": "code",
   "outputs": [],
   "source": [
    "import os\n",
    "\n",
    "test_dict1 = {'1': {'surface_area': '1区域面积', 'volume': '2区域体积', 'points': ['x', 'y', 'z', 'intensity, ']}}\n",
    "\n",
    "with open('E:/07-code/tunnelProject/adminProject/test.txt', 'w', encoding='utf-8') as f:\n",
    "    f.write(str(test_dict1))"
   ],
   "metadata": {
    "collapsed": false,
    "ExecuteTime": {
     "end_time": "2025-05-30T09:02:56.081682500Z",
     "start_time": "2025-05-30T09:02:56.074275200Z"
    }
   },
   "id": "3931851ef8022593",
   "execution_count": 15
  },
  {
   "cell_type": "code",
   "outputs": [
    {
     "name": "stdout",
     "output_type": "stream",
     "text": [
      "分解单个上涨： 124.26000000000113\n",
      "分解总体上涨： 372.7800000000034\n"
     ]
    }
   ],
   "source": [
    "start = 7103.78\n",
    "end = 1220.40 * 3 + 891.71 * 4\n",
    "single_up = end - start\n",
    "print(\"分解单个上涨：\", single_up)\n",
    "print(\"分解总体上涨：\", single_up * 3)"
   ],
   "metadata": {
    "collapsed": false,
    "ExecuteTime": {
     "end_time": "2025-06-05T09:19:52.960419100Z",
     "start_time": "2025-06-05T09:19:52.923095200Z"
    }
   },
   "id": "ad5ffb44be0ca2f",
   "execution_count": 1
  },
  {
   "cell_type": "code",
   "outputs": [
    {
     "name": "stdout",
     "output_type": "stream",
     "text": [
      "no exist\n"
     ]
    }
   ],
   "source": [
    "dict3 = {1: 'test',\n",
    "         2: 'test',\n",
    "         3: 'test',\n",
    "         4: 'test'}\n",
    "\n",
    "if 5 not in dict3.keys():\n",
    "    print('no exist')"
   ],
   "metadata": {
    "collapsed": false,
    "ExecuteTime": {
     "end_time": "2025-06-11T09:49:00.534569200Z",
     "start_time": "2025-06-11T09:49:00.506572200Z"
    }
   },
   "id": "f966a7585e205528",
   "execution_count": 2
  },
  {
   "cell_type": "code",
   "outputs": [],
   "source": [
    "import requests\n",
    "\n",
    "# 向 wx_openid_list 用户推送预警\n",
    "access_token_url = f'{ReceiveThread.IP}:{ReceiveThread.PORT}/api/outer/wx_db/getAccessToken'\n",
    "access_token_response = requests.post(access_token_url)\n",
    "if access_token_response.get('code') != 101:\n",
    "    raise Exception('获取公众号信息异常')\n",
    "access_token = access_token_response.get('data')\n",
    "\n",
    "push_send_url = f'{ReceiveThread.IP}:{ReceiveThread.PORT}/api/outer/wx_db/sendMSG'\n",
    "push_send_data = {\n",
    "    'Info': {\n",
    "        'degree': '测试等级',\n",
    "        'describe': '测试描述',\n",
    "        'region': '测试区域',\n",
    "        'now': datetime.datetime.now(),\n",
    "        'Identification': '1001_1001_1001_1747649435.7616796'\n",
    "    },\n",
    "    'OpenIDS': str(wx_openid_list),\n",
    "    'AccessToken': access_token\n",
    "}\n",
    "requests.post(push_send_url, json=push_send_data)"
   ],
   "metadata": {
    "collapsed": false
   },
   "id": "ff8ef66d8e43a73"
  }
 ],
 "metadata": {
  "kernelspec": {
   "display_name": "Python 3",
   "language": "python",
   "name": "python3"
  },
  "language_info": {
   "codemirror_mode": {
    "name": "ipython",
    "version": 2
   },
   "file_extension": ".py",
   "mimetype": "text/x-python",
   "name": "python",
   "nbconvert_exporter": "python",
   "pygments_lexer": "ipython2",
   "version": "2.7.6"
  }
 },
 "nbformat": 4,
 "nbformat_minor": 5
}
