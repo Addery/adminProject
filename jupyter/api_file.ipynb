{
 "cells": [
  {
   "cell_type": "code",
   "execution_count": 1,
   "id": "initial_id",
   "metadata": {
    "collapsed": true,
    "ExecuteTime": {
     "end_time": "2024-12-20T01:12:11.907266100Z",
     "start_time": "2024-12-20T01:12:10.974425300Z"
    }
   },
   "outputs": [
    {
     "ename": "ImportError",
     "evalue": "cannot import name 'cached_property' from 'werkzeug' (E:\\Anaconda\\envs\\tunnel_project\\lib\\site-packages\\werkzeug\\__init__.py)",
     "output_type": "error",
     "traceback": [
      "\u001B[1;31m---------------------------------------------------------------------------\u001B[0m",
      "\u001B[1;31mImportError\u001B[0m                               Traceback (most recent call last)",
      "Cell \u001B[1;32mIn[1], line 2\u001B[0m\n\u001B[0;32m      1\u001B[0m \u001B[38;5;28;01mfrom\u001B[39;00m \u001B[38;5;21;01mflask\u001B[39;00m \u001B[38;5;28;01mimport\u001B[39;00m Flask\n\u001B[1;32m----> 2\u001B[0m \u001B[38;5;28;01mfrom\u001B[39;00m \u001B[38;5;21;01mflask_restplus\u001B[39;00m \u001B[38;5;28;01mimport\u001B[39;00m Api, Resource\n\u001B[0;32m      4\u001B[0m app \u001B[38;5;241m=\u001B[39m Flask(\u001B[38;5;18m__name__\u001B[39m)\n\u001B[0;32m      5\u001B[0m api \u001B[38;5;241m=\u001B[39m Api(app)\n",
      "File \u001B[1;32mE:\\Anaconda\\envs\\tunnel_project\\lib\\site-packages\\flask_restplus\\__init__.py:4\u001B[0m\n\u001B[0;32m      1\u001B[0m \u001B[38;5;66;03m# -*- coding: utf-8 -*-\u001B[39;00m\n\u001B[0;32m      2\u001B[0m \u001B[38;5;28;01mfrom\u001B[39;00m \u001B[38;5;21;01m__future__\u001B[39;00m \u001B[38;5;28;01mimport\u001B[39;00m absolute_import\n\u001B[1;32m----> 4\u001B[0m \u001B[38;5;28;01mfrom\u001B[39;00m \u001B[38;5;21;01m.\u001B[39;00m \u001B[38;5;28;01mimport\u001B[39;00m fields, reqparse, apidoc, inputs, cors\n\u001B[0;32m      5\u001B[0m \u001B[38;5;28;01mfrom\u001B[39;00m \u001B[38;5;21;01m.\u001B[39;00m\u001B[38;5;21;01mapi\u001B[39;00m \u001B[38;5;28;01mimport\u001B[39;00m Api  \u001B[38;5;66;03m# noqa\u001B[39;00m\n\u001B[0;32m      6\u001B[0m \u001B[38;5;28;01mfrom\u001B[39;00m \u001B[38;5;21;01m.\u001B[39;00m\u001B[38;5;21;01mmarshalling\u001B[39;00m \u001B[38;5;28;01mimport\u001B[39;00m marshal, marshal_with, marshal_with_field  \u001B[38;5;66;03m# noqa\u001B[39;00m\n",
      "File \u001B[1;32mE:\\Anaconda\\envs\\tunnel_project\\lib\\site-packages\\flask_restplus\\fields.py:17\u001B[0m\n\u001B[0;32m     14\u001B[0m \u001B[38;5;28;01mfrom\u001B[39;00m \u001B[38;5;21;01msix\u001B[39;00m\u001B[38;5;21;01m.\u001B[39;00m\u001B[38;5;21;01mmoves\u001B[39;00m\u001B[38;5;21;01m.\u001B[39;00m\u001B[38;5;21;01murllib\u001B[39;00m\u001B[38;5;21;01m.\u001B[39;00m\u001B[38;5;21;01mparse\u001B[39;00m \u001B[38;5;28;01mimport\u001B[39;00m urlparse, urlunparse\n\u001B[0;32m     16\u001B[0m \u001B[38;5;28;01mfrom\u001B[39;00m \u001B[38;5;21;01mflask\u001B[39;00m \u001B[38;5;28;01mimport\u001B[39;00m url_for, request\n\u001B[1;32m---> 17\u001B[0m \u001B[38;5;28;01mfrom\u001B[39;00m \u001B[38;5;21;01mwerkzeug\u001B[39;00m \u001B[38;5;28;01mimport\u001B[39;00m cached_property\n\u001B[0;32m     19\u001B[0m \u001B[38;5;28;01mfrom\u001B[39;00m \u001B[38;5;21;01m.\u001B[39;00m\u001B[38;5;21;01minputs\u001B[39;00m \u001B[38;5;28;01mimport\u001B[39;00m date_from_iso8601, datetime_from_iso8601, datetime_from_rfc822, boolean\n\u001B[0;32m     20\u001B[0m \u001B[38;5;28;01mfrom\u001B[39;00m \u001B[38;5;21;01m.\u001B[39;00m\u001B[38;5;21;01merrors\u001B[39;00m \u001B[38;5;28;01mimport\u001B[39;00m RestError\n",
      "\u001B[1;31mImportError\u001B[0m: cannot import name 'cached_property' from 'werkzeug' (E:\\Anaconda\\envs\\tunnel_project\\lib\\site-packages\\werkzeug\\__init__.py)"
     ]
    }
   ],
   "source": [
    "from flask import Flask\n",
    "from flask_restplus import Api, Resource\n",
    "\n",
    "app = Flask(__name__)\n",
    "api = Api(app)\n",
    "\n",
    "@api.route('/items/<int:item_id>')\n",
    "class ItemResource(Resource):\n",
    "    def get(self, item_id):\n",
    "        return {'item_id': item_id}\n",
    "\n",
    "# 运行app后，Swagger文档可以通过 http://127.0.0.1:5000/ 页面访问\n",
    "if __name__ == '__main__':\n",
    "    app.run(debug=True)\n"
   ]
  },
  {
   "cell_type": "code",
   "outputs": [],
   "source": [],
   "metadata": {
    "collapsed": false
   },
   "id": "a80f29dafe02c4be"
  }
 ],
 "metadata": {
  "kernelspec": {
   "display_name": "Python 3",
   "language": "python",
   "name": "python3"
  },
  "language_info": {
   "codemirror_mode": {
    "name": "ipython",
    "version": 2
   },
   "file_extension": ".py",
   "mimetype": "text/x-python",
   "name": "python",
   "nbconvert_exporter": "python",
   "pygments_lexer": "ipython2",
   "version": "2.7.6"
  }
 },
 "nbformat": 4,
 "nbformat_minor": 5
}
